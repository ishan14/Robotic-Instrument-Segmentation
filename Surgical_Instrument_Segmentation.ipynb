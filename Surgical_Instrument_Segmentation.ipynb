{
  "nbformat": 4,
  "nbformat_minor": 0,
  "metadata": {
    "colab": {
      "name": "Surgical Instrument Segmentation.ipynb",
      "provenance": [],
      "collapsed_sections": []
    },
    "kernelspec": {
      "name": "python382jvsc74a57bd0e7d44d9060afb85db6c3df150f107329a99cb8edb4c131ec5a69ecae8ea72a3b",
      "display_name": "Python 3.8.2 32-bit"
    },
    "language_info": {
      "name": "python",
      "version": "3.8.2"
    },
    "accelerator": "GPU",
    "widgets": {
      "application/vnd.jupyter.widget-state+json": {
        "ee1d60a1fefc49b1af13320e3256470b": {
          "model_module": "@jupyter-widgets/controls",
          "model_name": "HBoxModel",
          "state": {
            "_view_name": "HBoxView",
            "_dom_classes": [],
            "_model_name": "HBoxModel",
            "_view_module": "@jupyter-widgets/controls",
            "_model_module_version": "1.5.0",
            "_view_count": null,
            "_view_module_version": "1.5.0",
            "box_style": "",
            "layout": "IPY_MODEL_880cdd12124d4c87b1a84d838979c627",
            "_model_module": "@jupyter-widgets/controls",
            "children": [
              "IPY_MODEL_434d266dea864375acff67de8105e310",
              "IPY_MODEL_0b76f163bfc84673a715963ff2dfb5c1"
            ]
          }
        },
        "880cdd12124d4c87b1a84d838979c627": {
          "model_module": "@jupyter-widgets/base",
          "model_name": "LayoutModel",
          "state": {
            "_view_name": "LayoutView",
            "grid_template_rows": null,
            "right": null,
            "justify_content": null,
            "_view_module": "@jupyter-widgets/base",
            "overflow": null,
            "_model_module_version": "1.2.0",
            "_view_count": null,
            "flex_flow": null,
            "width": null,
            "min_width": null,
            "border": null,
            "align_items": null,
            "bottom": null,
            "_model_module": "@jupyter-widgets/base",
            "top": null,
            "grid_column": null,
            "overflow_y": null,
            "overflow_x": null,
            "grid_auto_flow": null,
            "grid_area": null,
            "grid_template_columns": null,
            "flex": null,
            "_model_name": "LayoutModel",
            "justify_items": null,
            "grid_row": null,
            "max_height": null,
            "align_content": null,
            "visibility": null,
            "align_self": null,
            "height": null,
            "min_height": null,
            "padding": null,
            "grid_auto_rows": null,
            "grid_gap": null,
            "max_width": null,
            "order": null,
            "_view_module_version": "1.2.0",
            "grid_template_areas": null,
            "object_position": null,
            "object_fit": null,
            "grid_auto_columns": null,
            "margin": null,
            "display": null,
            "left": null
          }
        },
        "434d266dea864375acff67de8105e310": {
          "model_module": "@jupyter-widgets/controls",
          "model_name": "FloatProgressModel",
          "state": {
            "_view_name": "ProgressView",
            "style": "IPY_MODEL_8473b81a48214467ade8834ee17dcca9",
            "_dom_classes": [],
            "description": "100%",
            "_model_name": "FloatProgressModel",
            "bar_style": "success",
            "max": 178090079,
            "_view_module": "@jupyter-widgets/controls",
            "_model_module_version": "1.5.0",
            "value": 178090079,
            "_view_count": null,
            "_view_module_version": "1.5.0",
            "orientation": "horizontal",
            "min": 0,
            "description_tooltip": null,
            "_model_module": "@jupyter-widgets/controls",
            "layout": "IPY_MODEL_3b8166f3faaa47e2acd74f29fd953c0d"
          }
        },
        "0b76f163bfc84673a715963ff2dfb5c1": {
          "model_module": "@jupyter-widgets/controls",
          "model_name": "HTMLModel",
          "state": {
            "_view_name": "HTMLView",
            "style": "IPY_MODEL_5f8f1df94d3e4ff7acfac1f6008dab23",
            "_dom_classes": [],
            "description": "",
            "_model_name": "HTMLModel",
            "placeholder": "​",
            "_view_module": "@jupyter-widgets/controls",
            "_model_module_version": "1.5.0",
            "value": " 170M/170M [00:06&lt;00:00, 26.5MB/s]",
            "_view_count": null,
            "_view_module_version": "1.5.0",
            "description_tooltip": null,
            "_model_module": "@jupyter-widgets/controls",
            "layout": "IPY_MODEL_f59bbaaf9840454f9321f46a39b82a78"
          }
        },
        "8473b81a48214467ade8834ee17dcca9": {
          "model_module": "@jupyter-widgets/controls",
          "model_name": "ProgressStyleModel",
          "state": {
            "_view_name": "StyleView",
            "_model_name": "ProgressStyleModel",
            "description_width": "initial",
            "_view_module": "@jupyter-widgets/base",
            "_model_module_version": "1.5.0",
            "_view_count": null,
            "_view_module_version": "1.2.0",
            "bar_color": null,
            "_model_module": "@jupyter-widgets/controls"
          }
        },
        "3b8166f3faaa47e2acd74f29fd953c0d": {
          "model_module": "@jupyter-widgets/base",
          "model_name": "LayoutModel",
          "state": {
            "_view_name": "LayoutView",
            "grid_template_rows": null,
            "right": null,
            "justify_content": null,
            "_view_module": "@jupyter-widgets/base",
            "overflow": null,
            "_model_module_version": "1.2.0",
            "_view_count": null,
            "flex_flow": null,
            "width": null,
            "min_width": null,
            "border": null,
            "align_items": null,
            "bottom": null,
            "_model_module": "@jupyter-widgets/base",
            "top": null,
            "grid_column": null,
            "overflow_y": null,
            "overflow_x": null,
            "grid_auto_flow": null,
            "grid_area": null,
            "grid_template_columns": null,
            "flex": null,
            "_model_name": "LayoutModel",
            "justify_items": null,
            "grid_row": null,
            "max_height": null,
            "align_content": null,
            "visibility": null,
            "align_self": null,
            "height": null,
            "min_height": null,
            "padding": null,
            "grid_auto_rows": null,
            "grid_gap": null,
            "max_width": null,
            "order": null,
            "_view_module_version": "1.2.0",
            "grid_template_areas": null,
            "object_position": null,
            "object_fit": null,
            "grid_auto_columns": null,
            "margin": null,
            "display": null,
            "left": null
          }
        },
        "5f8f1df94d3e4ff7acfac1f6008dab23": {
          "model_module": "@jupyter-widgets/controls",
          "model_name": "DescriptionStyleModel",
          "state": {
            "_view_name": "StyleView",
            "_model_name": "DescriptionStyleModel",
            "description_width": "",
            "_view_module": "@jupyter-widgets/base",
            "_model_module_version": "1.5.0",
            "_view_count": null,
            "_view_module_version": "1.2.0",
            "_model_module": "@jupyter-widgets/controls"
          }
        },
        "f59bbaaf9840454f9321f46a39b82a78": {
          "model_module": "@jupyter-widgets/base",
          "model_name": "LayoutModel",
          "state": {
            "_view_name": "LayoutView",
            "grid_template_rows": null,
            "right": null,
            "justify_content": null,
            "_view_module": "@jupyter-widgets/base",
            "overflow": null,
            "_model_module_version": "1.2.0",
            "_view_count": null,
            "flex_flow": null,
            "width": null,
            "min_width": null,
            "border": null,
            "align_items": null,
            "bottom": null,
            "_model_module": "@jupyter-widgets/base",
            "top": null,
            "grid_column": null,
            "overflow_y": null,
            "overflow_x": null,
            "grid_auto_flow": null,
            "grid_area": null,
            "grid_template_columns": null,
            "flex": null,
            "_model_name": "LayoutModel",
            "justify_items": null,
            "grid_row": null,
            "max_height": null,
            "align_content": null,
            "visibility": null,
            "align_self": null,
            "height": null,
            "min_height": null,
            "padding": null,
            "grid_auto_rows": null,
            "grid_gap": null,
            "max_width": null,
            "order": null,
            "_view_module_version": "1.2.0",
            "grid_template_areas": null,
            "object_position": null,
            "object_fit": null,
            "grid_auto_columns": null,
            "margin": null,
            "display": null,
            "left": null
          }
        }
      }
    }
  },
  "cells": [
    {
      "cell_type": "markdown",
      "metadata": {
        "id": "bAz5vnUji4hu"
      },
      "source": [
        "### Importing data from google drive"
      ]
    },
    {
      "cell_type": "code",
      "metadata": {
        "colab": {
          "base_uri": "https://localhost:8080/"
        },
        "id": "oWf5JmE9XRwz",
        "outputId": "773273c8-218e-4656-8a6f-ca494612ddbe"
      },
      "source": [
        "from google.colab import drive\n",
        "drive.mount('/content/gdrive')"
      ],
      "execution_count": 1,
      "outputs": [
        {
          "output_type": "stream",
          "text": [
            "Mounted at /content/gdrive\n"
          ],
          "name": "stdout"
        }
      ]
    },
    {
      "cell_type": "code",
      "metadata": {
        "id": "ZH7WPTnMYXLL",
        "colab": {
          "base_uri": "https://localhost:8080/"
        },
        "outputId": "180ce390-5d26-4e47-eddd-3639f6f72dbd"
      },
      "source": [
        "cd gdrive/MyDrive/task/"
      ],
      "execution_count": 2,
      "outputs": [
        {
          "output_type": "stream",
          "text": [
            "/content/gdrive/MyDrive/task\n"
          ],
          "name": "stdout"
        }
      ]
    },
    {
      "cell_type": "markdown",
      "metadata": {
        "id": "RfXJ6xbci4h3"
      },
      "source": [
        "### Data preprocessing \n",
        "- dividing data into 4 folds\n",
        "- using pycoco creator tools changing images and masks into standard coco notation"
      ]
    },
    {
      "cell_type": "code",
      "metadata": {
        "id": "BdrDxg0sxdM9"
      },
      "source": [
        "!python data_preparation/organize2017_train.py --data-dir . --save-dir ./train --cropped\n",
        "!python data_preparation/organize2017.py --data-dir .  --save-dir ./test --cropped\n"
      ],
      "execution_count": null,
      "outputs": []
    },
    {
      "cell_type": "code",
      "metadata": {
        "id": "ibUKi2_b1kHP"
      },
      "source": [
        "!sudo apt-get install python3-dev\n",
        "!pip install cython\n",
        "!pip install git+git://github.com/waspinator/coco.git@2.1.0\n",
        "!pip install git+git://github.com/waspinator/pycococreator.git@0.2.0"
      ],
      "execution_count": null,
      "outputs": []
    },
    {
      "cell_type": "code",
      "metadata": {
        "colab": {
          "base_uri": "https://localhost:8080/"
        },
        "id": "CmJXmEXJ1PcZ",
        "outputId": "21585d5c-d547-4bdb-f557-7bae02299d70"
      },
      "source": [
        "!python ./data_preparation/robotseg_to_coco.py --image-dir ./train/fold1/images --anns-dir ./train/fold1/binary_annotations --save-dir ./train/fold1/new_annotations --dataset \"2017\" --group-name \"split_test_1,3\" --json-prefix \"test_json\""
      ],
      "execution_count": null,
      "outputs": [
        {
          "output_type": "stream",
          "text": [
            "Called with args:\n",
            "Namespace(anns_dir='./train/fold1/binary_annotations', dataset='2017', group_name='split_test_1,3', image_dir='./train/fold1/images', json_prefix='test_json', save_dir='./train/fold1/new_annotations')\n",
            "  0% 0/450 [00:00<?, ?it/s]/usr/local/lib/python3.7/dist-packages/pycococreatortools/pycococreatortools.py:48: VisibleDeprecationWarning: Creating an ndarray from ragged nested sequences (which is a list-or-tuple of lists-or-tuples-or ndarrays with different lengths or shapes) is deprecated. If you meant to do this, you must specify 'dtype=object' when creating the ndarray\n",
            "  contours = np.subtract(contours, 1)\n",
            "100% 450/450 [06:54<00:00,  1.09it/s]\n"
          ],
          "name": "stdout"
        }
      ]
    },
    {
      "cell_type": "code",
      "metadata": {
        "id": "2LEGPVWvRmU-"
      },
      "source": [
        "f = open('./train/fold1/new_annotations/trial_json_split_2,4,5,6,7,8_1,3.json')\n",
        "d = json.load(f)"
      ],
      "execution_count": null,
      "outputs": []
    },
    {
      "cell_type": "code",
      "metadata": {
        "id": "jiMcp_k_II_x"
      },
      "source": [
        "tt = open('train/fold1/new_annotations/json_split_test_1,3.json')\n",
        "t = json.load(tt)"
      ],
      "execution_count": null,
      "outputs": []
    },
    {
      "cell_type": "code",
      "metadata": {
        "id": "mOWgnyUgm5Bs"
      },
      "source": [
        "segmentations = {}\n",
        "for segmentation in test_file['annotations']:\n",
        "  image_id = segmentation['image_id']\n",
        "  if image_id not in segmentations:\n",
        "    segmentations[image_id] = []\n",
        "  segmentations[image_id].append(segmentation)\n"
      ],
      "execution_count": null,
      "outputs": []
    },
    {
      "cell_type": "code",
      "metadata": {
        "id": "vrwJce8jUQBD"
      },
      "source": [
        "images = {}\n",
        "for image in test_file['images']:\n",
        "  image_id = image['id']\n",
        "  if image_id in images:\n",
        "    print(\"ERROR: Skipping duplicate image id: {}\".format(image))\n",
        "  else:\n",
        "    images[image_id] = image"
      ],
      "execution_count": null,
      "outputs": []
    },
    {
      "cell_type": "code",
      "metadata": {
        "id": "lw5SfSmaUVqT"
      },
      "source": [
        "index_toremove=[]\n",
        "for i in images.items():\n",
        "  if i[0] in segmentations.keys():\n",
        "    continue\n",
        "  else:\n",
        "    index_toremove.append(i[0])\n",
        "    \n",
        "for i in index_toremove:\n",
        "  images.pop(i)"
      ],
      "execution_count": null,
      "outputs": []
    },
    {
      "cell_type": "code",
      "metadata": {
        "colab": {
          "base_uri": "https://localhost:8080/"
        },
        "id": "nHMQVh0JmJzQ",
        "outputId": "e2003844-23ce-4601-e1fc-0a6ccf8a980d"
      },
      "source": [
        "\n",
        "for i, seg in enumerate(segmentations[1]):\n",
        "  xmin, ymin, box_width, box_height = seg['bbox']\n",
        "  box = [xmin, ymin, xmin+width, ymin+height]\n",
        "  print(box)"
      ],
      "execution_count": null,
      "outputs": [
        {
          "output_type": "stream",
          "text": [
            "[8.0, 407.0, 593.0, 239.0]\n",
            "[370.0, 429.0, 903.0, 320.0]\n",
            "[805.0, 148.0, 468.0, 167.0]\n"
          ],
          "name": "stdout"
        }
      ]
    },
    {
      "cell_type": "code",
      "metadata": {
        "colab": {
          "base_uri": "https://localhost:8080/"
        },
        "id": "3bhm0UuO7o5D",
        "outputId": "69608728-af1e-4440-9030-d30ff289073c"
      },
      "source": [
        "\n",
        "for i, seg in enumerate(segmentations[1]):\n",
        "  xmin, ymin, box_width, box_height = seg['bbox']\n",
        "  box = [xmin, ymin, xmin+box_width, ymin+box_height]\n",
        "  print(box)"
      ],
      "execution_count": null,
      "outputs": [
        {
          "output_type": "stream",
          "text": [
            "[8.0, 407.0, 601.0, 646.0]\n",
            "[370.0, 429.0, 1273.0, 749.0]\n",
            "[805.0, 148.0, 1273.0, 315.0]\n"
          ],
          "name": "stdout"
        }
      ]
    },
    {
      "cell_type": "code",
      "metadata": {
        "id": "iepXobRzsXfG"
      },
      "source": [
        "images = []\n",
        "for image in d['images']:\n",
        "  image_id = image['id']\n",
        "  if image_id in images:\n",
        "    print(\"ERROR: Skipping duplicate image id: {}\".format(image))\n",
        "  else:\n",
        "    images.append((image_id, image))"
      ],
      "execution_count": null,
      "outputs": []
    },
    {
      "cell_type": "code",
      "metadata": {
        "id": "UTMM0VJzMhJR"
      },
      "source": [
        "segmentations = {}\n",
        "for segmentation in d['annotations']:\n",
        "  image_id = segmentation['image_id']\n",
        "  if image_id not in segmentations:\n",
        "    segmentations[image_id] = []\n",
        "  segmentations[image_id].append(segmentation)"
      ],
      "execution_count": null,
      "outputs": []
    },
    {
      "cell_type": "markdown",
      "metadata": {
        "id": "I-cnRyiRLp0I"
      },
      "source": [
        "### Importing Libraries"
      ]
    },
    {
      "cell_type": "code",
      "metadata": {
        "id": "Ikrnd3ndxQ7e"
      },
      "source": [
        "import os \n",
        "import torch\n",
        "import json\n",
        "import numpy as np\n",
        "from PIL import Image\n",
        "from skimage.draw import polygon\n",
        "import matplotlib.pyplot as plt\n",
        "import glob\n",
        "from torch.utils.data import Dataset"
      ],
      "execution_count": 3,
      "outputs": []
    },
    {
      "cell_type": "markdown",
      "metadata": {
        "id": "3M7FJtzdLvve"
      },
      "source": [
        "### Creating a custom dataset  class "
      ]
    },
    {
      "cell_type": "code",
      "metadata": {
        "id": "M9cuo3RsPr3a"
      },
      "source": [
        "class seg_dataset(Dataset):\n",
        "  def __init__(self, image_dir, json_file, transform=None):\n",
        "    self.image_dir = image_dir\n",
        "    self.transform = transform\n",
        "    f = open(json_file)\n",
        "    self.json_file = json.load(f)\n",
        "    \n",
        "    self.get_images()\n",
        "    self.get_segments()\n",
        "    self.remove_images()\n",
        "\n",
        "\n",
        "  def __len__(self):\n",
        "    return len(self.images)\n",
        "\n",
        "  def __getitem__(self, idx):\n",
        "\n",
        "    def get_mask(seg, h, w):\n",
        "      mask1 = np.zeros((h, w))\n",
        "      for i in seg['segmentation']:\n",
        "        x=[]\n",
        "        y=[]\n",
        "        for j in range(0,len(i),2):\n",
        "          x.append(i[j])\n",
        "          y.append(i[j+1])\n",
        "        x = np.array(x)\n",
        "        y = np.array(y)\n",
        "        xs, ys = polygon(y,x, shape=(h, w))\n",
        "        mask1[xs, ys] = 1\n",
        "      return mask1\n",
        "    \n",
        "    def get_bbox(lst):\n",
        "      x_min, y_min, box_width, box_height = lst['bbox']\n",
        "      box = [x_min, y_min, x_min + box_width, y_min + box_height]\n",
        "      return box\n",
        "\n",
        "    if torch.is_tensor(idx):\n",
        "      idx = idx.tolist()\n",
        "    image = self.images[idx]\n",
        "    image_id = image[0]\n",
        "    image_height = image[1]['height']\n",
        "    image_width = image[1]['width']\n",
        "    image_path = os.path.join(self.image_dir, image[1]['file_name'])\n",
        "    image = Image.open(image_path).convert(\"RGB\")\n",
        "    labels=[]\n",
        "    iscrowds=[]\n",
        "    masks=[]\n",
        "    boxes=[]\n",
        "    areas=[]\n",
        "    \n",
        "    for i, seg in enumerate(self.segmentations[image_id]):\n",
        "      box = get_bbox(seg)\n",
        "      boxes.append(box)\n",
        "      label = seg['category_id']\n",
        "      labels.append(label)\n",
        "      mask = get_mask(seg, image_height, image_width)\n",
        "      mask = mask\n",
        "      masks.append(mask)\n",
        "      area = seg['area']\n",
        "      areas.append(area)\n",
        "      iscrowd = seg['iscrowd']\n",
        "      iscrowds.append(iscrowd)\n",
        "    \n",
        "    target={}\n",
        "    target[\"boxes\"] = torch.as_tensor(boxes, dtype=torch.float32)\n",
        "    target[\"labels\"] = torch.as_tensor(labels, dtype=torch.int64)\n",
        "    target[\"masks\"] = torch.as_tensor(masks, dtype=torch.uint8)\n",
        "    target[\"image_id\"] = torch.as_tensor([image_id])\n",
        "    target[\"area\"] = torch.as_tensor(areas, dtype=torch.float32)\n",
        "    target[\"iscrowd\"] = torch.as_tensor(iscrowds, dtype=torch.float32)\n",
        "\n",
        "    if self.transform is not None:\n",
        "      image, target = self.transform(image, target)\n",
        "\n",
        "    return image, target\n",
        "    \n",
        "  def get_segments(self):\n",
        "    self.segmentations = {}\n",
        "    for segmentation in self.json_file['annotations']:\n",
        "      image_id = segmentation['image_id']\n",
        "\n",
        "      if image_id not in self.segmentations:\n",
        "        self.segmentations[image_id] = []\n",
        "      self.segmentations[image_id].append(segmentation)\n",
        "\n",
        "  def get_images(self):\n",
        "    self.images = []\n",
        "    for image in self.json_file['images']:\n",
        "      image_id = image['id']\n",
        "      if image_id in self.images:\n",
        "        print(\"ERROR: Skipping duplicate image id: {}\".format(image))\n",
        "      else:\n",
        "        self.images.append((image_id, image))\n",
        "\n",
        "  def remove_images(self):\n",
        "    index_to_remove=[]\n",
        "    for i in self.images:\n",
        "      if i[0] in self.segmentations.keys():\n",
        "        continue\n",
        "      else:\n",
        "        index_to_remove.append(i)\n",
        "    for idx in index_to_remove:\n",
        "      self.images.remove(idx)\n",
        "    \n",
        "\n"
      ],
      "execution_count": 5,
      "outputs": []
    },
    {
      "cell_type": "code",
      "metadata": {
        "id": "0doY6aq-9QqD"
      },
      "source": [
        "test = seg_dataset('train/fold1/images', 'train/fold1/new_annotations/json_split_test_1,3.json')\n",
        "data = seg_dataset('train/fold0/images', 'train/fold0/new_annotations/trial_json_split_2,4,5,6,7,8_1,3.json')"
      ],
      "execution_count": 6,
      "outputs": []
    },
    {
      "cell_type": "markdown",
      "metadata": {
        "id": "IiptJdwSMFgR"
      },
      "source": [
        "### Creating Model"
      ]
    },
    {
      "cell_type": "code",
      "metadata": {
        "id": "N0H_s_pDyaMR"
      },
      "source": [
        "import torchvision\n",
        "from torchvision.models.detection.faster_rcnn import FastRCNNPredictor\n",
        "from torchvision.models.detection.mask_rcnn import MaskRCNNPredictor\n",
        "\n",
        "      \n",
        "def get_instance_segmentation_model(num_classes):\n",
        "    model = torchvision.models.detection.maskrcnn_resnet50_fpn(pretrained=True)\n",
        "    in_features = model.roi_heads.box_predictor.cls_score.in_features\n",
        "    model.roi_heads.box_predictor = FastRCNNPredictor(in_features, num_classes)\n",
        "    in_features_mask = model.roi_heads.mask_predictor.conv5_mask.in_channels\n",
        "    hidden_layer = 256\n",
        "    model.roi_heads.mask_predictor = MaskRCNNPredictor(in_features_mask,\n",
        "                                                       hidden_layer,\n",
        "                                                       num_classes)\n",
        "    return model"
      ],
      "execution_count": 12,
      "outputs": []
    },
    {
      "cell_type": "code",
      "metadata": {
        "id": "KGoYthHWz6uS"
      },
      "source": [
        "%%shell\n",
        "git clone https://github.com/pytorch/vision.git\n",
        "cd vision\n",
        "git checkout v0.3.0\n",
        "\n",
        "cp references/detection/utils.py ../\n",
        "cp references/detection/transforms.py ../\n",
        "cp references/detection/coco_eval.py ../\n",
        "cp references/detection/engine.py ../\n",
        "cp references/detection/coco_utils.py ../"
      ],
      "execution_count": null,
      "outputs": []
    },
    {
      "cell_type": "code",
      "metadata": {
        "id": "WUXspR0xz8Sp"
      },
      "source": [
        "from engine import train_one_epoch, evaluate\n",
        "import utils\n",
        "import transforms as T\n",
        "\n",
        "def get_transform(train):\n",
        "    transforms = []\n",
        "    transforms.append(T.ToTensor())\n",
        "    if train:\n",
        "        transforms.append(T.RandomHorizontalFlip(0.5))\n",
        "    return T.Compose(transforms)"
      ],
      "execution_count": 13,
      "outputs": []
    },
    {
      "cell_type": "code",
      "metadata": {
        "colab": {
          "base_uri": "https://localhost:8080/"
        },
        "id": "-R_23xY0z8Ng",
        "outputId": "4828bfe5-014c-476e-ea2d-389c6170f50f"
      },
      "source": [
        "dataset = seg_dataset('train/fold0/images', 'train/fold0/new_annotations/trial_json_split_2,4,5,6,7,8_1,3.json', get_transform(train=True))\n",
        "dataset_test = seg_dataset('train/fold1/images', 'train/fold1/new_annotations/json_split_test_1,3.json', get_transform(train=False))\n",
        "\n",
        "data_loader = torch.utils.data.DataLoader(\n",
        "    dataset, batch_size=2, shuffle=True, num_workers=4,\n",
        "    collate_fn=utils.collate_fn)\n",
        "\n",
        "data_loader_test = torch.utils.data.DataLoader(\n",
        "    dataset_test, batch_size=1, shuffle=False, num_workers=4,\n",
        "    collate_fn=utils.collate_fn)"
      ],
      "execution_count": 14,
      "outputs": [
        {
          "output_type": "stream",
          "text": [
            "/usr/local/lib/python3.7/dist-packages/torch/utils/data/dataloader.py:477: UserWarning: This DataLoader will create 4 worker processes in total. Our suggested max number of worker in current system is 2, which is smaller than what this DataLoader is going to create. Please be aware that excessive worker creation might get DataLoader running slow or even freeze, lower the worker number to avoid potential slowness/freeze if necessary.\n",
            "  cpuset_checked))\n"
          ],
          "name": "stderr"
        }
      ]
    },
    {
      "cell_type": "code",
      "metadata": {
        "colab": {
          "base_uri": "https://localhost:8080/",
          "height": 83,
          "referenced_widgets": [
            "ee1d60a1fefc49b1af13320e3256470b",
            "880cdd12124d4c87b1a84d838979c627",
            "434d266dea864375acff67de8105e310",
            "0b76f163bfc84673a715963ff2dfb5c1",
            "8473b81a48214467ade8834ee17dcca9",
            "3b8166f3faaa47e2acd74f29fd953c0d",
            "5f8f1df94d3e4ff7acfac1f6008dab23",
            "f59bbaaf9840454f9321f46a39b82a78"
          ]
        },
        "id": "S9mT_AQ4z8Kq",
        "outputId": "eebee4a7-1dc7-41bf-f791-5f3f6ddd7908"
      },
      "source": [
        "device = torch.device('cuda') if torch.cuda.is_available() else torch.device('cpu')\n",
        "\n",
        "num_classes = 8\n",
        "model = get_instance_segmentation_model(num_classes)\n",
        "model.to(device)\n",
        "\n",
        "params = [p for p in model.parameters() if p.requires_grad]\n",
        "optimizer = torch.optim.SGD(params, lr=0.005,\n",
        "                            momentum=0.9, weight_decay=0.0005)\n",
        "\n",
        "lr_scheduler = torch.optim.lr_scheduler.StepLR(optimizer,\n",
        "                                               step_size=3,\n",
        "                                               gamma=0.1)"
      ],
      "execution_count": 15,
      "outputs": [
        {
          "output_type": "stream",
          "text": [
            "Downloading: \"https://download.pytorch.org/models/maskrcnn_resnet50_fpn_coco-bf2d0c1e.pth\" to /root/.cache/torch/hub/checkpoints/maskrcnn_resnet50_fpn_coco-bf2d0c1e.pth\n"
          ],
          "name": "stderr"
        },
        {
          "output_type": "display_data",
          "data": {
            "application/vnd.jupyter.widget-view+json": {
              "model_id": "ee1d60a1fefc49b1af13320e3256470b",
              "version_minor": 0,
              "version_major": 2
            },
            "text/plain": [
              "HBox(children=(FloatProgress(value=0.0, max=178090079.0), HTML(value='')))"
            ]
          },
          "metadata": {
            "tags": []
          }
        },
        {
          "output_type": "stream",
          "text": [
            "\n"
          ],
          "name": "stdout"
        }
      ]
    },
    {
      "cell_type": "markdown",
      "metadata": {
        "id": "PlkhZ6ZCMIiI"
      },
      "source": [
        "### Training"
      ]
    },
    {
      "cell_type": "code",
      "metadata": {
        "id": "lkWFd1AMz8He"
      },
      "source": [
        "num_epochs = 1\n",
        "fold = 0\n",
        "for epoch in range(num_epochs):\n",
        "    # train for one epoch, printing every 10 iterations\n",
        "    train_one_epoch(model, optimizer, data_loader, device, epoch, print_freq=10, epoch_max=num_epochs, fold=fold)\n",
        "    # update the learning rate\n",
        "    lr_scheduler.step()\n",
        "    # evaluate on the test dataset\n",
        "    evaluate(model, data_loader_test, device=device)"
      ],
      "execution_count": null,
      "outputs": []
    },
    {
      "cell_type": "code",
      "metadata": {
        "id": "Ln9VCFw3i4iA"
      },
      "source": [
        "test_image, test_target = (next(iter(data_loader_test)))\n",
        "test_image = test_image[0].numpy()\n",
        "test_image = np.rollaxis(test_image, -1, 1)\n",
        "inputs = list(j.to(device) for j in test_image)\n",
        "pred = model(inputs)\n",
        "pred_mask = pred[0]['masks']"
      ],
      "execution_count": null,
      "outputs": []
    },
    {
      "cell_type": "code",
      "metadata": {
        "id": "4OQ5mwO3i98O"
      },
      "source": [
        "sum_m =0\n",
        "for i in pred_mask:\n",
        "  i = i.cpu().detach().numpy()\n",
        "  i = np.rollaxis(i, 0, -1)\n",
        "  i = np.rollaxis(i, -1, 1)\n",
        "  sum_m += i"
      ],
      "execution_count": null,
      "outputs": []
    },
    {
      "cell_type": "code",
      "metadata": {
        "colab": {
          "base_uri": "https://localhost:8080/",
          "height": 286
        },
        "id": "xwg1M3_xdso1",
        "outputId": "ee1b0a0f-1b9b-4092-f5db-5804622e26a7"
      },
      "source": [
        "plt.imshow(test_image)"
      ],
      "execution_count": null,
      "outputs": [
        {
          "output_type": "execute_result",
          "data": {
            "text/plain": [
              "<matplotlib.image.AxesImage at 0x7f652fadc9d0>"
            ]
          },
          "metadata": {
            "tags": []
          },
          "execution_count": 125
        },
        {
          "output_type": "display_data",
          "data": {
            "image/png": "[encoded data removed]",
            "text/plain": [
              "<Figure size 432x288 with 1 Axes>"
            ]
          },
          "metadata": {
            "tags": [],
            "needs_background": "light"
          }
        }
      ]
    },
    {
      "cell_type": "code",
      "metadata": {
        "colab": {
          "base_uri": "https://localhost:8080/",
          "height": 286
        },
        "id": "O7nuIrhtd9SW",
        "outputId": "cf766018-9505-4739-a9ea-76087cb4e33e"
      },
      "source": [
        "plt.imshow(sum_m.squeeze())"
      ],
      "execution_count": null,
      "outputs": [
        {
          "output_type": "execute_result",
          "data": {
            "text/plain": [
              "<matplotlib.image.AxesImage at 0x7f652f733ed0>"
            ]
          },
          "metadata": {
            "tags": []
          },
          "execution_count": 136
        },
        {
          "output_type": "display_data",
          "data": {
            "image/png": "[encoded data removed]",
            "text/plain": [
              "<Figure size 432x288 with 1 Axes>"
            ]
          },
          "metadata": {
            "tags": [],
            "needs_background": "light"
          }
        }
      ]
    }
  ]
}